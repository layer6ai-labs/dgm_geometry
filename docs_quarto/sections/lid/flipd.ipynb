{
 "cells": [
  {
   "cell_type": "markdown",
   "metadata": {},
   "source": [
    "# Fokker-Planck LID (FLIPD)\n",
    "\n",
    "---\n",
    "author: \"Hamidreza Kamkari\"\n",
    "code-tools: true\n",
    "code-fold: true\n",
    "jupyter: python3\n",
    "---\n",
    "\n",
    "![FLIPD unlocks the capability to estimate LID for ~1M dimensional images of LAION Aesthetics. This figure shows the 4 lowest and highest FLIPD estimates for the dataset, showing a clear seperation of images with respect to their semantic complexity.](../../figures/main_figure_flipd_laion.png)\n",
    "\n",
    "## Introduction\n",
    "\n",
    "Check out our paper at [arXiv](https://arxiv.org/abs/2406.03537) for more details. The code will be available soon!"
   ]
  },
  {
   "cell_type": "markdown",
   "metadata": {},
   "source": [
    "<!-- \n",
    "## References -->\n",
    "<!-- \n",
    "::: {#refs}\n",
    "::: -->\n"
   ]
  }
 ],
 "metadata": {
  "language_info": {
   "name": "python"
  }
 },
 "nbformat": 4,
 "nbformat_minor": 2
}
